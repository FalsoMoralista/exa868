{
 "cells": [
  {
   "cell_type": "code",
   "execution_count": 1,
   "id": "98f8f7d4",
   "metadata": {},
   "outputs": [],
   "source": [
    "import numpy as np"
   ]
  },
  {
   "cell_type": "code",
   "execution_count": 17,
   "id": "7edbd1a5",
   "metadata": {},
   "outputs": [
    {
     "name": "stdout",
     "output_type": "stream",
     "text": [
      "(4,)\n",
      "(5, 4)\n",
      "(5, 5)\n",
      "(3, 5)\n",
      "(2, 3)\n"
     ]
    }
   ],
   "source": [
    "''' \n",
    "    \n",
    "'''\n",
    "class MultiLayerPerceptron: \n",
    "  '''\n",
    "      input_shape: Array or tuple with the corresponding\n",
    "      number of neurons per layer.\n",
    "      \n",
    "  '''\n",
    "  def __init__(self, input_shape):\n",
    "    self.weight_matrix = [None] * len(input_shape)\n",
    "    self.weight_matrix[0] = np.random.uniform(low=-1, high=1.0, size=(input_shape[0]))\n",
    "    for i in range(0, len(input_shape)-1):\n",
    "      self.weight_matrix[i+1] = np.random.uniform(low=-1, high=1.0, size=(input_shape[i+1],input_shape[i]))\n",
    "    for i in range(len(self.weight_matrix)):\n",
    "      print(self.weight_matrix[i].shape)\n",
    "\n",
    "    \n",
    "nn = MultiLayerPerceptron(input_shape=[4,5,5,3,2])"
   ]
  },
  {
   "cell_type": "code",
   "execution_count": 21,
   "id": "a35a1879",
   "metadata": {},
   "outputs": [
    {
     "name": "stdout",
     "output_type": "stream",
     "text": [
      "Input Layer: [ 0.06562477 -0.04663553  0.36073127  0.30618497]\n",
      "[-0.0244812  -0.16878215 -0.05171187 -0.10131765 -0.39224896]\n",
      "[-0.29540071  0.02725393 -0.33147161  0.30468392 -0.44333272]\n",
      "[ 0.08315293 -0.67723982 -0.16492173]\n",
      "[0.09166807 0.55106377]\n"
     ]
    }
   ],
   "source": [
    "# forward pass function:\n",
    "print('Input Layer:', nn.weight_matrix[0])\n",
    "result = np.dot(nn.weight_matrix[0], np.transpose(nn.weight_matrix[1])) \n",
    "print(result)\n",
    "for i in range(2,len(nn.weight_matrix)):\n",
    "  result = np.dot(result, np.transpose(nn.weight_matrix[i]))\n",
    "  print(result)"
   ]
  },
  {
   "cell_type": "code",
   "execution_count": 13,
   "id": "1b6d4e4f",
   "metadata": {},
   "outputs": [
    {
     "data": {
      "text/plain": [
       "array([[ 0.00111759,  0.67598335, -0.87129364, -0.48858705],\n",
       "       [-0.61768803,  0.70156015, -0.88117519, -0.3185993 ],\n",
       "       [-0.53684066, -0.04649365, -0.19035894, -0.03218577],\n",
       "       [ 0.12676204, -0.18736079,  0.63508442, -0.68610225],\n",
       "       [-0.83814944,  0.90275327, -0.13131897, -0.01142184]])"
      ]
     },
     "execution_count": 13,
     "metadata": {},
     "output_type": "execute_result"
    }
   ],
   "source": [
    "nn.weight_matrix[0]"
   ]
  },
  {
   "cell_type": "code",
   "execution_count": null,
   "id": "51e9fb58",
   "metadata": {},
   "outputs": [],
   "source": []
  }
 ],
 "metadata": {
  "kernelspec": {
   "display_name": "Python 3 (ipykernel)",
   "language": "python",
   "name": "python3"
  },
  "language_info": {
   "codemirror_mode": {
    "name": "ipython",
    "version": 3
   },
   "file_extension": ".py",
   "mimetype": "text/x-python",
   "name": "python",
   "nbconvert_exporter": "python",
   "pygments_lexer": "ipython3",
   "version": "3.7.13"
  }
 },
 "nbformat": 4,
 "nbformat_minor": 5
}
