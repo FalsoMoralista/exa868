{
 "cells": [
  {
   "cell_type": "code",
   "execution_count": 124,
   "id": "198a3929",
   "metadata": {},
   "outputs": [],
   "source": [
    "import numpy as np\n",
    "import matplotlib.pyplot as plt\n",
    "from matplotlib.pyplot import figure\n",
    "plt.style.use('_mpl-gallery')\n",
    "\n",
    "import math"
   ]
  },
  {
   "cell_type": "code",
   "execution_count": 20,
   "id": "5b5665cf",
   "metadata": {},
   "outputs": [],
   "source": [
    "train_data = [[-1, 0.4329, -1.3719, 0.7022, -0.8535, 1.0000],\n",
    "[-1, 0.3024, 0.2286, 0.8630, 2.7909, -1.0000],\n",
    "[-1, 0.1349, -0.6445, 1.0530, 0.5687, -1.0000],\n",
    "[-1, 0.3374, -1.7163, 0.3670, -0.6283, -1.0000],\n",
    "[-1, 1.1434, -0.0485, 0.6637, 1.2606, 1.0000],\n",
    "[-1, 1.3749, -0.5071, 0.4464, 1.3009, 1.0000],\n",
    "[-1, 0.7221, -0.7587, 0.7681, -0.5592, 1.0000],\n",
    "[-1, 0.4403, -0.8072, 0.5154, -0.3129, 1.0000],\n",
    "[-1, -0.5231, 0.3548, 0.2538, 1.5776, -1.0000],\n",
    "[-1, 0.3255, -2.0000, 0.7112, -1.1209, 1.0000],\n",
    "[-1, 0.5824, 1.3915, -0.2291, 4.1735, -1.0000],\n",
    "[-1, 0.1340, 0.6081, 0.4450, 3.2230, -1.0000],\n",
    "[-1, 0.1480, -0.2988, 0.4778, 0.8649, 1.0000],\n",
    "[-1, 0.7359, 0.1869, -0.0872, 2.3584, 1.0000],\n",
    "[-1, 0.7115, -1.1469, 0.3394, 0.9573, -1.0000],\n",
    "[-1, 0.8251, -1.2840, 0.8452, 1.2382, -1.0000],\n",
    "[-1, 0.1569, 0.3712, 0.8825, 1.7633, 1.0000],\n",
    "[-1, 0.0033, 0.6835, 0.5389, 2.8249, -1.0000],\n",
    "[-1, 0.4243, 0.8313, 0.2634, 3.5855, -1.0000],\n",
    "[-1, 1.0490, 0.1326, 0.9138, 1.9792, 1.0000],\n",
    "[-1, 1.4276, 0.5331, -0.0145, 3.7286, 1.0000],\n",
    "[-1, 0.5971, 1.4865, 0.2904, 4.6069, -1.0000],\n",
    "[-1, 0.8475, 2.1479, 0.3179, 5.8235, -1.0000],\n",
    "[-1, 1.3967, -0.4171, 0.6443, 1.3927, 1.0000],\n",
    "[-1, 0.0044, 1.5378, 0.6099, 4.7755, -1.0000],\n",
    "[-1, 0.2201, -0.5668, 0.0515, 0.7829, 1.0000],\n",
    "[-1, 0.6300, -1.2480, 0.8591, 0.8093, -1.0000],\n",
    "[-1, -0.2479, 0.8960, 0.0547, 1.7381, 1.0000],\n",
    "[-1, -0.3088, -0.0929, 0.8659, 1.5483, -1.0000],\n",
    "[-1, -0.5180, 1.4974, 0.5453, 2.3993, 1.0000],\n",
    "[-1, 0.6833, 0.8266, 0.0829, 2.8864, 1.0000],\n",
    "[-1, 0.4353, -1.4066, 0.4207, -0.4879, 1.0000],\n",
    "[-1, -0.1069, -3.2329, 0.1856, -2.4572, -1.0000],\n",
    "[-1, 0.4662, 0.6261, 0.7304, 3.4370, -1.0000],\n",
    "[-1, 0.8298, -1.4089, 0.3119, 1.3235, -1.0000]]\n",
    "\n",
    "validation_data = []\n",
    "for i in range(len(train_data)):\n",
    "  validation_data.append(train_data[i].pop(5))"
   ]
  },
  {
   "cell_type": "code",
   "execution_count": 7,
   "id": "88c59f9d",
   "metadata": {},
   "outputs": [
    {
     "data": {
      "text/plain": [
       "(35,)"
      ]
     },
     "execution_count": 7,
     "metadata": {},
     "output_type": "execute_result"
    }
   ],
   "source": [
    "arr = np.array(validation_data)\n",
    "arr.shape"
   ]
  },
  {
   "cell_type": "code",
   "execution_count": 152,
   "id": "f8ecf87b",
   "metadata": {},
   "outputs": [],
   "source": [
    "\n",
    "class Neuron:\n",
    "    def __init__(self, input_shape, learning_rate):\n",
    "      self.input_shape = input_shape\n",
    "      self.weight_matrix = []\n",
    "      self.lr = learning_rate\n",
    "      self.mse_by_epoch = []\n",
    "\n",
    "    def sigmoid(self,x):\n",
    "      return 1/(1+np.exp(-x))\n",
    "    \n",
    "    def threshold(self, x):\n",
    "      if x >= 0:\n",
    "        return 1\n",
    "      else:\n",
    "        return -1\n",
    "    \n",
    "    def compute_dot_product(self):\n",
    "      return np.dot(self.input_layer, self.weight_matrix)\n",
    "    \n",
    "    def activate(self, x, activation):\n",
    "      if activation == 'linear':\n",
    "        return x\n",
    "      if activation == 'sigmoid':\n",
    "        return self.sigmoid(x)\n",
    "      if activation == 'tanh':\n",
    "        return np.tanh(x)\n",
    "      if activation == 'threshold':\n",
    "        return self.threshold(x)\n",
    "      \n",
    "    def fit(self, sample, activation_function):\n",
    "      x_placeholder = np.array(sample)\n",
    "      a = np.dot(x_placeholder, self.weight_matrix)\n",
    "      result = self.activate(a, activation_function)\n",
    "      if result == 1:\n",
    "        print('B')\n",
    "      else: \n",
    "        print('A')\n",
    "              \n",
    "\n",
    "    def train_loop(self, train_data, desired_outputs, activation_function, error):\n",
    "      self.weight_matrix = np.random.uniform(low=0, high=1.0, size=self.input_shape)\n",
    "      print('Matriz de pesos inicial:')\n",
    "      print(self.weight_matrix)\n",
    "      epoch_cnt = 0\n",
    "      prev_mse = 99999999999999\n",
    "      current_mse = 1\n",
    "      while(abs(current_mse - prev_mse) > error):\n",
    "        prev_mse = current_mse\n",
    "        mse = 0\n",
    "        for (x, y) in zip(train_data, desired_outputs):\n",
    "          x_placeholder = np.array(x)\n",
    "          induced_lfield = np.dot(x_placeholder, self.weight_matrix)\n",
    "          #activation =  self.activate(induced_lfield, activation_function)\n",
    "          error_value = (y - induced_lfield) # activation  vs induced_lfield\n",
    "          mse += error_value**2 \n",
    "          for i in range(len(x)):\n",
    "            change_rate = self.lr * x[i] * error_value\n",
    "            self.weight_matrix[i] = self.weight_matrix[i] + change_rate\n",
    "        epoch_cnt += 1          \n",
    "        mse /= len(train_data)\n",
    "        self.mse_by_epoch.append(mse)\n",
    "        current_mse = mse        \n",
    "      print('Matriz de pesos Final:', self.weight_matrix)\n",
    "      print('Total de épocas:', epoch_cnt)\n",
    "      print('MSE - Anterior', prev_mse)\n",
    "      print('MSE - Final:', current_mse)"
   ]
  },
  {
   "cell_type": "code",
   "execution_count": 154,
   "id": "a90e200c",
   "metadata": {},
   "outputs": [
    {
     "name": "stdout",
     "output_type": "stream",
     "text": [
      "Matriz de pesos inicial:\n",
      "[0.69034657 0.40766121 0.27995139 0.39517256 0.48947954]\n",
      "Matriz de pesos Final: [-1.81138418  1.31258766  1.6414335  -0.42647742 -1.17715842]\n",
      "Total de épocas: 909\n",
      "MSE - Anterior 0.30810650763537367\n",
      "MSE - Final: 0.30810551801695346\n"
     ]
    },
    {
     "data": {
      "text/plain": [
       "<Figure size 432x432 with 0 Axes>"
      ]
     },
     "metadata": {},
     "output_type": "display_data"
    },
    {
     "data": {
      "image/png": "[encoded data removed]",
      "text/plain": [
       "<Figure size 576x432 with 1 Axes>"
      ]
     },
     "metadata": {
      "needs_background": "light"
     },
     "output_type": "display_data"
    }
   ],
   "source": [
    "n = Neuron(input_shape=(5,), learning_rate=25.0e-4)\n",
    "n.train_loop(train_data=train_data, desired_outputs=validation_data,activation_function='threshold',error=1.0e-6)\n",
    "\n",
    "plt.figure(figsize=(6,6))\n",
    "fig, ax = plt.subplots(figsize=(8,6))\n",
    "\n",
    "\n",
    "y=n.mse_by_epoch\n",
    "x = range(len(n.mse_by_epoch))\n",
    "\n",
    "ax.set(xlim=(0, 1000), xticks=np.arange(0, 1000, 50),ylim=(0.2, 1.25), yticks=np.arange(0.2, 1.25, 0.05))\n",
    "ax.set_xlabel('Época')\n",
    "ax.set_ylabel('Erro - (MSE)')\n",
    "ax.plot(x, y, linewidth=2.0)\n",
    "\n",
    "plt.show()"
   ]
  },
  {
   "cell_type": "code",
   "execution_count": 82,
   "id": "3aa4fd92",
   "metadata": {},
   "outputs": [],
   "source": [
    "test_data = [[-1, 0.9694, 0.6909, 0.4334, 3.4965],\n",
    "[-1, 0.5427, 1.3832, 0.6390, 4.0352],\n",
    "[-1, 0.6081, -0.9196, 0.5925, 0.1016],\n",
    "[-1, -0.1618, 0.4694, 0.2030, 3.0117],\n",
    "[-1, 0.1870, -0.2578, 0.6124, 1.7749],\n",
    "[-1, 0.4891, -0.5276, 0.4378, 0.6439],\n",
    "[-1, 0.3777, 2.0149, 0.7423, 3.3932],\n",
    "[-1, 1.1498, -0.4067, 0.2469, 1.5866],\n",
    "[-1, 0.9325, 1.0950, 1.0359, 3.3591],\n",
    "[-1, 0.5060, 1.3317, 0.9222, 3.7174],\n",
    "[-1, 0.0497, -2.0656, 0.6124, -0.6585],\n",
    "[-1, 0.4004, 3.5369, 0.9766, 5.3532],\n",
    "[-1, -0.1874, 1.3343, 0.5374, 3.2189],\n",
    "[-1, 0.5060, 1.3317, 0.9222, 3.7174],\n",
    "[-1, 1.6375, -0.7911, 0.7537, 0.5515]]"
   ]
  },
  {
   "cell_type": "code",
   "execution_count": 155,
   "id": "c120e7e7",
   "metadata": {},
   "outputs": [
    {
     "name": "stdout",
     "output_type": "stream",
     "text": [
      "Matriz de pesos inicial:\n",
      "[0.98218833 0.77020282 0.39717499 0.4814267  0.49241414]\n",
      "Matriz de pesos Final: [-1.8112021   1.3125921   1.64138457 -0.42627969 -1.17711761]\n",
      "Total de épocas: 919\n",
      "MSE - Anterior 0.3081074672817275\n",
      "MSE - Final: 0.30810646738497227\n",
      "B\n",
      "Matriz de pesos inicial:\n",
      "[0.3487109  0.96818272 0.52528024 0.5553875  0.20854869]\n",
      "Matriz de pesos Final: [-1.81126538  1.31261067  1.64142683 -0.42630849 -1.17714639]\n",
      "Total de épocas: 881\n",
      "MSE - Anterior 0.3081070696550238\n",
      "MSE - Final: 0.308106073891064\n",
      "B\n",
      "Matriz de pesos inicial:\n",
      "[0.95093146 0.63678232 0.46595624 0.41705521 0.14264961]\n",
      "Matriz de pesos Final: [-1.81121687  1.31259094  1.64138755 -0.42629731 -1.17712034]\n",
      "Total de épocas: 909\n",
      "MSE - Anterior 0.3081073915611466\n",
      "MSE - Final: 0.3081063924804049\n",
      "B\n",
      "Matriz de pesos inicial:\n",
      "[0.32913923 0.67443643 0.44321086 0.5696898  0.94083043]\n",
      "Matriz de pesos Final: [-1.81130931  1.31258769  1.64141113 -0.42639966 -1.17714034]\n",
      "Total de épocas: 899\n",
      "MSE - Anterior 0.3081069068245055\n",
      "MSE - Final: 0.3081059129415298\n",
      "B\n",
      "Matriz de pesos inicial:\n",
      "[0.3065939  0.30094252 0.65672355 0.13613492 0.96244633]\n",
      "Matriz de pesos Final: [-1.81136058  1.3125279   1.6413514  -0.42657157 -1.17710933]\n",
      "Total de épocas: 880\n",
      "MSE - Anterior 0.3081068261455604\n",
      "MSE - Final: 0.308105833457444\n",
      "B\n"
     ]
    }
   ],
   "source": [
    "for i in range(5):\n",
    "  n.train_loop(train_data=train_data, desired_outputs=validation_data,activation_function='threshold',error=1.0e-6)\n",
    "  n.fit([-1,1.6375 ,\n",
    "-0.7911, \n",
    "0.7537, \n",
    "0.5515\n",
    "], 'threshold')"
   ]
  },
  {
   "cell_type": "code",
   "execution_count": null,
   "id": "67fdf92c",
   "metadata": {},
   "outputs": [],
   "source": []
  }
 ],
 "metadata": {
  "kernelspec": {
   "display_name": "Python 3 (ipykernel)",
   "language": "python",
   "name": "python3"
  },
  "language_info": {
   "codemirror_mode": {
    "name": "ipython",
    "version": 3
   },
   "file_extension": ".py",
   "mimetype": "text/x-python",
   "name": "python",
   "nbconvert_exporter": "python",
   "pygments_lexer": "ipython3",
   "version": "3.7.13"
  }
 },
 "nbformat": 4,
 "nbformat_minor": 5
}
