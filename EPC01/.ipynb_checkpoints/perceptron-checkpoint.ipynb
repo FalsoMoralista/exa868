{
 "cells": [
  {
   "cell_type": "code",
   "execution_count": 1,
   "id": "6e3ae067",
   "metadata": {},
   "outputs": [],
   "source": [
    "import numpy as np\n",
    "import matplotlib.pyplot as plt"
   ]
  },
  {
   "cell_type": "code",
   "execution_count": 74,
   "id": "629ef4bb",
   "metadata": {},
   "outputs": [],
   "source": [
    "class Neuron:\n",
    "    def __init__(self, input_shape, learning_rate):\n",
    "      self.input_shape = input_shape\n",
    "      self.weight_matrix = []\n",
    "      self.lr = learning_rate\n",
    "\n",
    "    def sigmoid(self,x):\n",
    "      return 1/(1+np.exp(-x))\n",
    "    \n",
    "    def threshold(self, x):\n",
    "      if x >= 0:\n",
    "        return 1\n",
    "      else:\n",
    "        return -1\n",
    "    \n",
    "    def compute_dot_product(self):\n",
    "      return np.dot(self.input_layer, self.weight_matrix)\n",
    "    \n",
    "    def activate(self, x, activation):\n",
    "      if activation == 'linear':\n",
    "        return x\n",
    "      if activation == 'sigmoid':\n",
    "        return self.sigmoid(x)\n",
    "      if activation == 'tanh':\n",
    "        return np.tanh(x)\n",
    "      if activation == 'threshold':\n",
    "        return self.threshold(x)\n",
    "      \n",
    "    def fit(self, sample, activation_function):\n",
    "      x_placeholder = np.array(sample)\n",
    "      a = np.dot(x_placeholder, self.weight_matrix)\n",
    "      result = self.activate(a, activation_function)\n",
    "      if result == 1:\n",
    "        print('Classe C2')\n",
    "      else: \n",
    "        print('Classe C1')\n",
    "      \n",
    "    ''' For each weight (w_i) associated to the input do:\n",
    "        Add up it's previous value (w_(i-1)) to the product \n",
    "        of the input (at index i) by the difference between \n",
    "        the current neuron output and the desired output,\n",
    "        times the learning rate.\n",
    "\n",
    "        Parameters:\n",
    "          - desired_outputs: output labels.\n",
    "          - activation_function: linar, sigmoid, tanh or threshold.    \n",
    "    '''\n",
    "    def train_loop(self, train_data, desired_outputs, activation_function):\n",
    "      self.weight_matrix = np.random.uniform(low=-1, high=1.0, size=self.input_shape)\n",
    "      print('Matriz de pesos inicial: ')\n",
    "      print(self.weight_matrix)\n",
    "      error = True\n",
    "      epoch_cnt = 0\n",
    "      while(error != False):\n",
    "        flag = False\n",
    "        for (x, y) in zip(train_data, desired_outputs):\n",
    "          x_placeholder = np.array(x)\n",
    "          a = np.dot(x_placeholder, self.weight_matrix)\n",
    "          error_val = (y - self.activate(a, activation_function))\n",
    "          if error_val != 0:\n",
    "            flag = True\n",
    "            for i in range(len(x)):\n",
    "              change_rate = self.lr * x[i] * error_val\n",
    "              self.weight_matrix[i] = self.weight_matrix[i] + change_rate\n",
    "        if flag == False:\n",
    "          error = False\n",
    "        epoch_cnt += 1\n",
    "      print('Matriz de pesos Final:', self.weight_matrix)\n",
    "      print('Total de épocas:', epoch_cnt)"
   ]
  },
  {
   "cell_type": "code",
   "execution_count": 188,
   "id": "570bee80",
   "metadata": {},
   "outputs": [
    {
     "data": {
      "text/plain": [
       "array([-1.11666577,  0.50833055,  0.55333693,  7.57477613])"
      ]
     },
     "execution_count": 188,
     "metadata": {},
     "output_type": "execute_result"
    }
   ],
   "source": [
    "#n.weight_matrix\n",
    "# Treinamento com 4 épocas usando a função sigmoid"
   ]
  },
  {
   "cell_type": "code",
   "execution_count": null,
   "id": "8efd384f",
   "metadata": {},
   "outputs": [],
   "source": [
    "-1 C1 \n",
    "+1 C2"
   ]
  },
  {
   "cell_type": "code",
   "execution_count": 57,
   "id": "8933552e",
   "metadata": {},
   "outputs": [],
   "source": [
    "train_data = [ [-1, -0.6508, 0.1097, 4.0009, -1.0000],\n",
    "[-1, -1.4492, 0.8896, 4.4005, -1.0000],\n",
    "[-1, 2.0850, 0.6876, 12.0710, -1.0000],\n",
    "[-1, 0.2626, 1.1476, 7.7985, 1.0000],\n",
    "[-1, 0.6418, 1.0234, 7.0427, 1.0000],\n",
    "[-1, 0.2569, 0.6730, 8.3265, -1.0000],\n",
    "[-1, 1.1155, 0.6043, 7.4446, 1.0000],\n",
    "[-1, 0.0914, 0.3399, 7.0677, -1.0000],\n",
    "[-1, 0.0121, 0.5256, 4.6316, 1.0000], \n",
    "[-1, -0.0429, 0.4660, 5.4323, 1.0000],\n",
    "[-1, 0.4340, 0.6870, 8.2287, -1.0000],\n",
    "[-1, 0.2735, 1.0287, 7.1934, 1.0000], \n",
    "[-1, 0.4839, 0.4851, 7.4850, -1.0000],\n",
    "[-1, 0.4089, -0.1267, 5.5019, -1.0000], \n",
    "[-1, 1.4391, 0.1614, 8.5843, -1.0000], \n",
    "[-1, -0.9115, -0.1973, 2.1962, -1.0000], \n",
    "[-1, 0.3654, 1.0475, 7.4858, 1.0000], \n",
    "[-1, 0.2144, 0.7515, 7.1699, 1.0000], \n",
    "[-1, 0.2013, 1.0014, 6.5489, 1.0000], \n",
    "[-1, 0.6483, 0.2183, 5.8991, 1.0000], \n",
    "[-1, -0.1147, 0.2242, 7.2435, -1.0000], \n",
    "[-1, -0.7970, 0.8795, 3.8762, 1.0000], \n",
    "[-1, -1.0625, 0.6366, 2.4707, 1.0000], \n",
    "[-1, 0.5307, 0.1285, 5.6883, 1.0000], \n",
    "[-1, -1.2200, 0.7777, 1.7252, 1.0000], \n",
    "[-1, 0.3957, 0.1076, 5.6623, -1.0000], \n",
    "[-1, -0.1013, 0.5989, 7.1812, -1.0000],\n",
    "[-1, 2.4482, 0.9455, 11.2095, 1.0000], \n",
    "[-1, 2.0149, 0.6192, 10.9263, -1.0000],\n",
    "[-1, 0.2012, 0.2611, 5.4631, 1.0000]]  \n",
    "\n",
    "validation_data = []\n",
    "for i in range(len(train_data)):\n",
    "  validation_data.append(train_data[i].pop(4))"
   ]
  },
  {
   "cell_type": "code",
   "execution_count": 75,
   "id": "2a6f1401",
   "metadata": {},
   "outputs": [],
   "source": [
    "n = Neuron(input_shape=(4,),learning_rate=0.01)"
   ]
  },
  {
   "cell_type": "code",
   "execution_count": 80,
   "id": "b8dd0d42",
   "metadata": {},
   "outputs": [
    {
     "name": "stdout",
     "output_type": "stream",
     "text": [
      "Matriz de pesos inicial: \n",
      "[ 0.64755204 -0.37722258  0.80119339 -0.46064712]\n",
      "Matriz de pesos Final: [-3.07244796  1.54300942  2.50796339 -0.73703112]\n",
      "Total de épocas: 417\n"
     ]
    }
   ],
   "source": [
    "n.train_loop(train_data=train_data, desired_outputs=validation_data, activation_function='threshold')"
   ]
  },
  {
   "cell_type": "code",
   "execution_count": 90,
   "id": "49c9ca5f",
   "metadata": {},
   "outputs": [
    {
     "name": "stdout",
     "output_type": "stream",
     "text": [
      "Matriz de pesos inicial: \n",
      "[-0.05148473  0.49694598  0.24983299  0.97587793]\n",
      "Matriz de pesos Final: [-3.07148473  1.52874198  2.50794299 -0.70587007]\n",
      "Total de épocas: 392\n",
      "Classe C1\n",
      "Matriz de pesos inicial: \n",
      "[-0.42973831  0.95805226 -0.47828832 -0.20145326]\n",
      "Matriz de pesos Final: [-3.14973831  1.58569026  2.52885768 -0.74815126]\n",
      "Total de épocas: 410\n",
      "Classe C1\n",
      "Matriz de pesos inicial: \n",
      "[-0.48342162  0.14056488 -0.13612406  0.20723106]\n",
      "Matriz de pesos Final: [-2.90342162  1.42572288  2.39624394 -0.67687094]\n",
      "Total de épocas: 330\n",
      "Classe C1\n",
      "Matriz de pesos inicial: \n",
      "[ 0.83879018 -0.35531283  0.28003658 -0.96569063]\n",
      "Matriz de pesos Final: [-2.98120982  1.44406117  2.42793858 -0.71280463]\n",
      "Total de épocas: 378\n",
      "Classe C1\n",
      "Matriz de pesos inicial: \n",
      "[-0.42551988 -0.44611349 -0.10315497 -0.51985661]\n",
      "Matriz de pesos Final: [-2.90551988  1.40713451  2.42548103 -0.69621061]\n",
      "Total de épocas: 339\n",
      "Classe C1\n"
     ]
    }
   ],
   "source": [
    "for i in range(5):\n",
    "  n.train_loop(train_data=train_data, desired_outputs=validation_data, activation_function='threshold')\n",
    "  n.fit([-1,-1.8842 ,-0.2805 ,1.2548], 'threshold')"
   ]
  },
  {
   "cell_type": "code",
   "execution_count": 70,
   "id": "cb144dbf",
   "metadata": {},
   "outputs": [
    {
     "name": "stdout",
     "output_type": "stream",
     "text": [
      "Classe C1\n",
      "Classe C2\n",
      "Classe C2\n",
      "Classe C2\n",
      "Classe C2\n",
      "Classe C2\n",
      "Classe C1\n",
      "Classe C2\n",
      "Classe C1\n",
      "Classe C1\n"
     ]
    }
   ],
   "source": [
    "test_data = [[-1, -0.3565, 0.0620, 5.9891],\n",
    "[-1, -0.7842, 1.1267, 5.5912],\n",
    "[-1, 0.3012, 0.5611, 5.8234],\n",
    "[-1, 0.7757, 1.0648, 8.0677],\n",
    "[-1, 0.1570, 0.8028, 6.3040],\n",
    "[-1, -0.7014, 1.0316, 3.6005],\n",
    "[-1, 0.3748, 0.1536, 6.1537],\n",
    "[-1, -0.6920, 0.9404, 4.4058],\n",
    "[-1, -1.3970, 0.7141, 4.9263],\n",
    "[-1, -1.8842, -0.2805, 1.2548]]\n",
    "\n",
    "for i in range(len(test_data)):\n",
    "  n.fit(test_data[i], 'threshold')"
   ]
  },
  {
   "cell_type": "code",
   "execution_count": 16,
   "id": "8db0e4cf",
   "metadata": {},
   "outputs": [],
   "source": []
  },
  {
   "cell_type": "code",
   "execution_count": 216,
   "id": "22b692e4",
   "metadata": {},
   "outputs": [
    {
     "data": {
      "text/plain": [
       "[[-0.6508, 0.1097, 4.0009],\n",
       " [-1.4492, 0.8896, 4.4005],\n",
       " [2.085, 0.6876, 12.071],\n",
       " [0.2626, 1.1476, 7.7985],\n",
       " [0.6418, 1.0234, 7.0427],\n",
       " [0.2569, 0.673, 8.3265],\n",
       " [1.1155, 0.6043, 7.4446],\n",
       " [0.0914, 0.3399, 7.0677],\n",
       " [0.0121, 0.5256, 4.6316],\n",
       " [-0.0429, 0.466, 5.4323],\n",
       " [0.434, 0.687, 8.2287],\n",
       " [0.2735, 1.0287, 7.1934],\n",
       " [0.4839, 0.4851, 7.485],\n",
       " [0.4089, -0.1267, 5.5019],\n",
       " [1.4391, 0.1614, 8.5843],\n",
       " [-0.9115, -0.1973, 2.1962],\n",
       " [0.3654, 1.0475, 7.4858],\n",
       " [0.2144, 0.7515, 7.1699],\n",
       " [0.2013, 1.0014, 6.5489],\n",
       " [0.6483, 0.2183, 5.8991],\n",
       " [-0.1147, 0.2242, 7.2435],\n",
       " [-0.797, 0.8795, 3.8762],\n",
       " [-1.0625, 0.6366, 2.4707],\n",
       " [0.5307, 0.1285, 5.6883],\n",
       " [-1.22, 0.7777, 1.7252],\n",
       " [0.3957, 0.1076, 5.6623],\n",
       " [-0.1013, 0.5989, 7.1812],\n",
       " [2.4482, 0.9455, 11.2095],\n",
       " [2.0149, 0.6192, 10.9263],\n",
       " [0.2012, 0.2611, 5.4631]]"
      ]
     },
     "execution_count": 216,
     "metadata": {},
     "output_type": "execute_result"
    }
   ],
   "source": [
    "filtered_train_data"
   ]
  },
  {
   "cell_type": "code",
   "execution_count": 215,
   "id": "37bc829a",
   "metadata": {},
   "outputs": [
    {
     "data": {
      "text/plain": [
       "Text(0.5, 0, 'Feature 3')"
      ]
     },
     "execution_count": 215,
     "metadata": {},
     "output_type": "execute_result"
    },
    {
     "data": {
      "image/png": "[encoded data removed]",
      "text/plain": [
       "<Figure size 432x432 with 1 Axes>"
      ]
     },
     "metadata": {
      "needs_background": "light"
     },
     "output_type": "display_data"
    }
   ],
   "source": [
    "\n",
    "fig = plt.figure(figsize=(6, 6))\n",
    "ax = fig.add_subplot(projection='3d')\n",
    "\n",
    "data_labels = ['Treino', 'Teste'] \n",
    "colors = ['black', 'blue']\n",
    "\n",
    "filtered_train_data = []\n",
    "for i in range(len(train_data)):\n",
    "  filtered_train_data.append(train_data[i][1:4])\n",
    "filtered_test_data = []\n",
    "for i in range(len(test_data)):\n",
    "  filtered_test_data.append(test_data[i][1:])\n",
    "\n",
    "train_x = []\n",
    "train_y = []\n",
    "train_z = []\n",
    "for i in range(len(filtered_train_data)):\n",
    "  train_x.append(filtered_train_data[i][0])\n",
    "  train_y.append(filtered_train_data[i][1])\n",
    "  train_z.append(filtered_train_data[i][2])  \n",
    "\n",
    "test_x = []\n",
    "test_y = []\n",
    "test_z = []\n",
    "for i in range(len(filtered_test_data)):\n",
    "  test_x.append(filtered_test_data[i][0])\n",
    "  test_y.append(filtered_test_data[i][1])\n",
    "  test_z.append(filtered_test_data[i][2])  \n",
    "\n",
    "train_arr = [train_x, train_y, train_z]\n",
    "test_arr = [test_x, test_y, test_z]  \n",
    "data_arr = [[train_x, train_y, train_z], [test_x, test_y, test_z]]\n",
    "for name, color, data  in zip(data_labels,colors, data_arr):\n",
    "  #print(name)\n",
    "  #print(color)\n",
    "  #print(data[0])\n",
    "  #print(len(data[0]))\n",
    "  #print(data[1])\n",
    "  #print(len(data[1]))  \n",
    "  #print(data[2])\n",
    "  #print(len(data[2]))  \n",
    "  xs = data[0]\n",
    "  ys = data[1]\n",
    "  zs = data[2]\n",
    "  ax.scatter(xs, ys,zs, color=color)\n",
    "\n",
    "ax.set_xlabel('Feature 1')\n",
    "ax.set_ylabel('Feature 2')\n",
    "ax.set_zlabel('Feature 3')\n",
    "\n",
    "#ax.set_title('Temperatura vs LAT-LONG Em Algumas cidades entre os anos de 1999 e 2005')\n"
   ]
  },
  {
   "cell_type": "code",
   "execution_count": null,
   "id": "f99039e6",
   "metadata": {},
   "outputs": [],
   "source": []
  }
 ],
 "metadata": {
  "kernelspec": {
   "display_name": "Python 3 (ipykernel)",
   "language": "python",
   "name": "python3"
  },
  "language_info": {
   "codemirror_mode": {
    "name": "ipython",
    "version": 3
   },
   "file_extension": ".py",
   "mimetype": "text/x-python",
   "name": "python",
   "nbconvert_exporter": "python",
   "pygments_lexer": "ipython3",
   "version": "3.7.13"
  }
 },
 "nbformat": 4,
 "nbformat_minor": 5
}
